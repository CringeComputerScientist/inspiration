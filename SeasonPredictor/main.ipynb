#Shashwat Sharma "Season Predictor": Predict season using a combination temprature and precipitation
#really basic and can be done with a simple conditional algorithm, but it impliments random forect classifier

#libraries
import pandas as pd
from sklearn.ensemble import RandomForestClassifier
from sklearn.model_selection import train_test_split
from sklearn.metrics import accuracy_score

#data handeling and preproccesing
w = pd.read_csv("3525718.csv", index_col="DATE")
weather = w[["PRCP", "TAVG"]]
weather.columns = ["p", "t"]
weather["p"] = weather["p"].fillna(0)
weather.index = pd.to_datetime(weather.index)
weather = weather.fillna(weather.mean())
weather=weather.apply(lambda x:(x-32)*5/9 if x.name =='t' else x)
weather=weather.apply(lambda x: (x*25.6) if x.name =='p' else x)

#classification
weather['season'] = 'unknown'
weather.loc[weather.index.month.isin([10,11, 12, 1, 2, 3]), 'season'] = 'winter'
weather.loc[weather.index.month.isin([4, 5, 6]), 'season'] = 'summer'
weather.loc[weather.index.month.isin([7, 8, 9]), 'season'] = 'monsoon'

#traintest split
#Shashwat Sharma "Season Predictor": Predict season using a combination temprature and precipitation
#really basic and can be done with a simple conditional algorithm, but it impliments random forect classifier

#libraries
import pandas as pd
from sklearn.ensemble import RandomForestClassifier
from sklearn.model_selection import train_test_split
from sklearn.metrics import accuracy_score

#data handeling and preproccesing
w = pd.read_csv("3525718.csv", index_col="DATE")
weather = w[["PRCP", "TAVG"]]
weather.columns = ["p", "t"]
weather["p"] = weather["p"].fillna(0)
weather.index = pd.to_datetime(weather.index)
weather = weather.fillna(weather.mean())
weather=weather.apply(lambda x:(x-32)*5/9 if x.name =='t' else x)
weather=weather.apply(lambda x: (x*25.6) if x.name =='p' else x)

#classification
weather['season'] = 'unknown'
weather.loc[weather.index.month.isin([10,11, 12, 1, 2, 3]), 'season'] = 'winter'
weather.loc[weather.index.month.isin([4, 5, 6]), 'season'] = 'summer'
weather.loc[weather.index.month.isin([7, 8, 9]), 'season'] = 'monsoon'

#traintest split
train_data, test_data = train_test_split(weather, test_size=0.2, random_state=42, stratify=weather['season'])
X_train = train_data[['t', 'p']]
y_train = train_data['season']

#training
model = RandomForestClassifier(n_estimators=100, random_state=42)
model.fit(X_train, y_train)

#testing
test_data['predicted_season'] = model.predict(test_data[['t', 'p']])
accuracy = accuracy_score(test_data['season'], test_data['predicted_season'])
print(f"Accuracy: {accuracy}")
print(test_data[['t', 'p','season', 'predicted_season']])
manual_p = float(input("Enter precipitation value: "))
manual_t = float(input("Enter temperature value: "))
manual_input_data = pd.DataFrame({'t': [manual_t], 'p': [manual_p]})
predicted_season_manual = model.predict(manual_input_data)
print(f"The predicted season for manual input (p={manual_p}, t={manual_t}) is: {predicted_season_manual[0]}")

#training
model = RandomForestClassifier(n_estimators=100, random_state=42)
model.fit(X_train, y_train)

#testing
test_data['predicted_season'] = model.predict(test_data[['t', 'p']])
accuracy = accuracy_score(test_data['season'], test_data['predicted_season'])
print(f"Accuracy: {accuracy}")
print(test_data[['t', 'p','season', 'predicted_season']])
manual_p = float(input("Enter precipitation value: "))
manual_t = float(input("Enter temperature value: "))
manual_input_data = pd.DataFrame({'t': [manual_t], 'p': [manual_p]})
predicted_season_manual = model.predict(manual_input_data)
print(f"The predicted season for manual input (p={manual_p}, t={manual_t}) is: {predicted_season_manual[0]}")
